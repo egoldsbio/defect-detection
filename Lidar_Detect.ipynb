{
 "cells": [
  {
   "cell_type": "code",
   "execution_count": 1,
   "metadata": {},
   "outputs": [
    {
     "name": "stdout",
     "output_type": "stream",
     "text": [
      "Jupyter environment detected. Enabling Open3D WebVisualizer.\n",
      "[Open3D INFO] WebRTC GUI backend enabled.\n",
      "[Open3D INFO] WebRTCWindowSystem: HTTP handshake server disabled.\n"
     ]
    }
   ],
   "source": [
    "import open3d as o3d\n",
    "import numpy as np\n",
    "import copy\n",
    "import utils.alignment as al\n",
    "import utils.filter as fltr"
   ]
  },
  {
   "cell_type": "code",
   "execution_count": 2,
   "metadata": {},
   "outputs": [],
   "source": [
    "source = o3d.io.read_point_cloud(r'point_clouds/Coffee.ply')\n",
    "source = fltr.filter_background(source)\n",
    "target = copy.deepcopy(source)"
   ]
  },
  {
   "cell_type": "code",
   "execution_count": 3,
   "metadata": {},
   "outputs": [
    {
     "data": {
      "text/plain": [
       "PointCloud with 17662 points."
      ]
     },
     "execution_count": 3,
     "metadata": {},
     "output_type": "execute_result"
    }
   ],
   "source": [
    "# disturb source\n",
    "trans_init = np.asarray([[0.0, 0.0, 1.0, 0.0], [1.0, 0.0, 0.0, 0.0],\n",
    "                             [0.0, 1.0, 0.0, 0.0], [0.0, 0.0, 0.0, 1.0]])\n",
    "source.transform(trans_init)"
   ]
  },
  {
   "cell_type": "code",
   "execution_count": 18,
   "metadata": {},
   "outputs": [
    {
     "name": "stdout",
     "output_type": "stream",
     "text": [
      "[[-5.55111512e-17  1.00000000e+00  1.11022302e-16  1.00000000e-03]\n",
      " [-1.11022302e-16  5.55111512e-17  1.00000000e+00  0.00000000e+00]\n",
      " [ 1.00000000e+00  1.11022302e-16  0.00000000e+00 -2.54787511e-18]\n",
      " [ 0.00000000e+00  0.00000000e+00  0.00000000e+00  1.00000000e+00]]\n",
      "[Open3D WARNING] GLFW Error: WGL: Failed to make context current: The handle is invalid. \n"
     ]
    }
   ],
   "source": [
    "transformation = al.global_registration(source, target)\n",
    "source_temp = copy.deepcopy(source)\n",
    "target_temp = copy.deepcopy(target)\n",
    "\n",
    "transformation = transformation.copy()\n",
    "transformation[0,3] = 0.001 # add a tiny bit of offset so we can see alignment otherwise they are perfectly overlapped\n",
    "print(transformation)\n",
    "source_temp.transform(transformation)\n",
    "source_temp.paint_uniform_color([1, 0.706, 0])\n",
    "target_temp.paint_uniform_color([0, 0.651, 0.929])\n",
    "o3d.visualization.draw_geometries([source_temp, target_temp])"
   ]
  }
 ],
 "metadata": {
  "kernelspec": {
   "display_name": "Python 3",
   "language": "python",
   "name": "python3"
  },
  "language_info": {
   "codemirror_mode": {
    "name": "ipython",
    "version": 3
   },
   "file_extension": ".py",
   "mimetype": "text/x-python",
   "name": "python",
   "nbconvert_exporter": "python",
   "pygments_lexer": "ipython3",
   "version": "3.10.14"
  }
 },
 "nbformat": 4,
 "nbformat_minor": 2
}
