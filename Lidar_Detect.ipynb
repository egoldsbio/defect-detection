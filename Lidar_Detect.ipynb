{
 "cells": [
  {
   "cell_type": "code",
   "execution_count": 1,
   "metadata": {},
   "outputs": [
    {
     "name": "stdout",
     "output_type": "stream",
     "text": [
      "Jupyter environment detected. Enabling Open3D WebVisualizer.\n",
      "[Open3D INFO] WebRTC GUI backend enabled.\n",
      "[Open3D INFO] WebRTCWindowSystem: HTTP handshake server disabled.\n"
     ]
    }
   ],
   "source": [
    "import open3d as o3d\n",
    "import numpy as np\n",
    "import copy\n",
    "import utils.alignment as al\n",
    "import utils.filter as fltr"
   ]
  },
  {
   "cell_type": "markdown",
   "metadata": {},
   "source": [
    "### Loading and aligning"
   ]
  },
  {
   "cell_type": "code",
   "execution_count": 2,
   "metadata": {},
   "outputs": [],
   "source": [
    "source = o3d.io.read_point_cloud(r'point_clouds/BrokenMug.ply')\n",
    "#source = fltr.filter_background(source)\n",
    "target = o3d.io.read_point_cloud(r'point_clouds/BaseMug.ply')"
   ]
  },
  {
   "cell_type": "code",
   "execution_count": 3,
   "metadata": {},
   "outputs": [
    {
     "data": {
      "text/plain": [
       "PointCloud with 25736 points."
      ]
     },
     "execution_count": 3,
     "metadata": {},
     "output_type": "execute_result"
    }
   ],
   "source": [
    "# disturb source\n",
    "for point in source.points:\n",
    "    shift = np.random.uniform(low=-100, high=100, size=(3,))\n",
    "    shift /= np.linalg.norm(shift) * (1/0.0001)\n",
    "    point += shift\n",
    "\n",
    "R = source.get_rotation_matrix_from_xyz((np.pi / 2, 0, 0))\n",
    "source.rotate(R)\n",
    "source.translate(np.random.uniform(low=-1, high=1, size=(3,)))"
   ]
  },
  {
   "cell_type": "code",
   "execution_count": 4,
   "metadata": {},
   "outputs": [
    {
     "name": "stdout",
     "output_type": "stream",
     "text": [
      "[Open3D WARNING] Too few correspondences (1734) after mutual filter, fall back to original correspondences.\n",
      "[[ 0.99999448  0.00228001  0.00241507 -0.20419237]\n",
      " [-0.00242384  0.00384904  0.99998965  0.65489674]\n",
      " [ 0.00227069 -0.99998999  0.00385454 -0.78496669]\n",
      " [ 0.          0.          0.          1.        ]]\n",
      "[Open3D WARNING] GLFW Error: WGL: Failed to make context current: The requested transformation operation is not supported. \n",
      "[Open3D WARNING] GLFW Error: WGL: Failed to make context current: The requested transformation operation is not supported. \n"
     ]
    }
   ],
   "source": [
    "transformation = al.global_registration(source, target)\n",
    "source_temp = copy.deepcopy(source)\n",
    "target_temp = copy.deepcopy(target)\n",
    "\n",
    "transformation = transformation.copy()\n",
    "print(transformation)\n",
    "source_temp.transform(transformation)\n",
    "source_temp.paint_uniform_color([0, 1, 0])\n",
    "target_temp.paint_uniform_color([0, 0.651, 0.929])\n",
    "o3d.visualization.draw_geometries([source_temp, target_temp])"
   ]
  },
  {
   "cell_type": "markdown",
   "metadata": {},
   "source": [
    "### Comparing"
   ]
  },
  {
   "cell_type": "code",
   "execution_count": 5,
   "metadata": {},
   "outputs": [
    {
     "name": "stdout",
     "output_type": "stream",
     "text": [
      "[Open3D WARNING] GLFW Error: WGL: Failed to make context current: The handle is invalid. \n",
      "0.024427515\n",
      "Defect\n"
     ]
    }
   ],
   "source": [
    "threshold = 0.0075\n",
    "\n",
    "mesh, densities = o3d.geometry.TriangleMesh.create_from_point_cloud_poisson(source_temp, depth=9)\n",
    "\n",
    "vertices = o3d.core.Tensor(np.array(mesh.vertices), dtype=o3d.core.float32)\n",
    "triangles = o3d.core.Tensor(np.array(mesh.triangles), dtype=o3d.core.uint32)\n",
    "\n",
    "scene = o3d.t.geometry.RaycastingScene()\n",
    "scene.add_triangles(vertices, triangles)\n",
    "\n",
    "distances = []\n",
    "defect_points = [] # (point, color)\n",
    "\n",
    "for point in target_temp.points:\n",
    "    query_point = o3d.core.Tensor([point], dtype=o3d.core.float32)\n",
    "    distance = scene.compute_distance(query_point)\n",
    "    if distance > threshold:\n",
    "        if distance > threshold * 2: color = [1, 0, 0]\n",
    "        elif distance > threshold * 1.5: color = [1, 0.65, 0]\n",
    "        else: color = [1, 1, 0]\n",
    "        defect_points.append((point, color))\n",
    "    distances.append(distance.numpy()[0])\n",
    "\n",
    "distances = np.array(distances)\n",
    "defect = np.any(distances > threshold)\n",
    "\n",
    "defect_cloud = o3d.geometry.PointCloud()\n",
    "for point in defect_points:\n",
    "    defect_cloud.points.append(point[0])\n",
    "    defect_cloud.colors.append(point[1])\n",
    "o3d.visualization.draw_geometries([defect_cloud, source_temp])\n",
    "\n",
    "print(np.max(distances))\n",
    "print('Defect' if defect else 'No Defect')"
   ]
  }
 ],
 "metadata": {
  "kernelspec": {
   "display_name": "Python 3 (ipykernel)",
   "language": "python",
   "name": "python3"
  },
  "language_info": {
   "codemirror_mode": {
    "name": "ipython",
    "version": 3
   },
   "file_extension": ".py",
   "mimetype": "text/x-python",
   "name": "python",
   "nbconvert_exporter": "python",
   "pygments_lexer": "ipython3",
   "version": "3.10.14"
  }
 },
 "nbformat": 4,
 "nbformat_minor": 2
}
