{
 "cells": [
  {
   "cell_type": "code",
   "execution_count": 1,
   "metadata": {},
   "outputs": [
    {
     "name": "stdout",
     "output_type": "stream",
     "text": [
      "Jupyter environment detected. Enabling Open3D WebVisualizer.\n",
      "[Open3D INFO] WebRTC GUI backend enabled.\n",
      "[Open3D INFO] WebRTCWindowSystem: HTTP handshake server disabled.\n"
     ]
    }
   ],
   "source": [
    "import open3d as o3d\n",
    "import numpy as np\n",
    "import copy\n",
    "import utils.alignment as al\n",
    "import utils.filter as fltr"
   ]
  },
  {
   "cell_type": "markdown",
   "metadata": {},
   "source": [
    "### Loading and aligning"
   ]
  },
  {
   "cell_type": "code",
   "execution_count": 2,
   "metadata": {},
   "outputs": [],
   "source": [
    "source = o3d.io.read_point_cloud(r'point_clouds/BaseMug.ply')\n",
    "#source = fltr.filter_background(source)\n",
    "target = o3d.io.read_point_cloud(r'point_clouds/BaseMug.ply')"
   ]
  },
  {
   "cell_type": "code",
   "execution_count": 3,
   "metadata": {},
   "outputs": [
    {
     "data": {
      "text/plain": [
       "PointCloud with 25862 points."
      ]
     },
     "execution_count": 3,
     "metadata": {},
     "output_type": "execute_result"
    }
   ],
   "source": [
    "# disturb source\n",
    "for point in source.points:\n",
    "    shift = np.random.uniform(low=-100, high=100, size=(3,))\n",
    "    shift /= np.linalg.norm(shift) * (1/0.0001)\n",
    "    point += shift\n",
    "\n",
    "R = source.get_rotation_matrix_from_xyz((np.pi / 2, 0, 0))\n",
    "source.rotate(R)"
   ]
  },
  {
   "cell_type": "code",
   "execution_count": 4,
   "metadata": {},
   "outputs": [
    {
     "name": "stdout",
     "output_type": "stream",
     "text": [
      "[Open3D WARNING] Too few correspondences (1983) after mutual filter, fall back to original correspondences.\n",
      "[[ 9.99978548e-01 -6.26598719e-03  1.90831868e-03 -7.56989817e-05]\n",
      " [-1.94075851e-03 -5.17513789e-03  9.99984726e-01 -5.47524462e-02]\n",
      " [-6.25601567e-03 -9.99966977e-01 -5.18718764e-03  5.58782780e-02]\n",
      " [ 0.00000000e+00  0.00000000e+00  0.00000000e+00  1.00000000e+00]]\n",
      "[Open3D WARNING] GLFW Error: WGL: Failed to make context current: The handle is invalid. \n",
      "[Open3D WARNING] GLFW Error: WGL: Failed to make context current: The requested transformation operation is not supported. \n"
     ]
    }
   ],
   "source": [
    "transformation = al.global_registration(source, target)\n",
    "source_temp = copy.deepcopy(source)\n",
    "target_temp = copy.deepcopy(target)\n",
    "\n",
    "transformation = transformation.copy()\n",
    "# transformation[0,3] = 0.001 # add a tiny bit of offset so we can see alignment otherwise they are perfectly overlapped\n",
    "print(transformation)\n",
    "source_temp.transform(transformation)\n",
    "source_temp.paint_uniform_color([1, 0.706, 0])\n",
    "target_temp.paint_uniform_color([0, 0.651, 0.929])\n",
    "o3d.visualization.draw_geometries([source_temp, target_temp])"
   ]
  },
  {
   "cell_type": "markdown",
   "metadata": {},
   "source": [
    "### Comparing"
   ]
  },
  {
   "cell_type": "code",
   "execution_count": 5,
   "metadata": {},
   "outputs": [
    {
     "name": "stdout",
     "output_type": "stream",
     "text": [
      "0.005329449\n",
      "No Defect\n"
     ]
    },
    {
     "data": {
      "text/plain": [
       "<function print>"
      ]
     },
     "execution_count": 5,
     "metadata": {},
     "output_type": "execute_result"
    }
   ],
   "source": [
    "threshold = 0.01\n",
    "\n",
    "# target_temp.estimate_normals()\n",
    "\n",
    "mesh, densities = o3d.geometry.TriangleMesh.create_from_point_cloud_poisson(target_temp, depth=9)\n",
    "\n",
    "vertices = o3d.core.Tensor(np.array(mesh.vertices), dtype=o3d.core.float32)\n",
    "triangles = o3d.core.Tensor(np.array(mesh.triangles), dtype=o3d.core.uint32)\n",
    "\n",
    "o3d.visualization.draw_geometries([mesh])\n",
    "\n",
    "scene = o3d.t.geometry.RaycastingScene()\n",
    "scene.add_triangles(vertices, triangles)\n",
    "\n",
    "distances = []\n",
    "\n",
    "for point in source_temp.points:\n",
    "    query_point = o3d.core.Tensor([point], dtype=o3d.core.float32)\n",
    "    distance = scene.compute_distance(query_point)\n",
    "    distances.append(distance.numpy()[0])\n",
    "\n",
    "distances = np.array(distances)\n",
    "defect = np.any(distances > threshold)\n",
    "print(np.max(distances))\n",
    "\n",
    "print('Defect' if defect else 'No Defect')\n",
    "print"
   ]
  }
 ],
 "metadata": {
  "kernelspec": {
   "display_name": "Python 3 (ipykernel)",
   "language": "python",
   "name": "python3"
  },
  "language_info": {
   "codemirror_mode": {
    "name": "ipython",
    "version": 3
   },
   "file_extension": ".py",
   "mimetype": "text/x-python",
   "name": "python",
   "nbconvert_exporter": "python",
   "pygments_lexer": "ipython3",
   "version": "3.10.14"
  }
 },
 "nbformat": 4,
 "nbformat_minor": 2
}
